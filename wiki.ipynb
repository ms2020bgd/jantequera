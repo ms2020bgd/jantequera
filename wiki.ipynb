{
 "cells": [
  {
   "cell_type": "code",
   "execution_count": 2,
   "metadata": {},
   "outputs": [],
   "source": [
    "import requests as r\n",
    "from bs4 import BeautifulSoup\n",
    "import re\n",
    "\n",
    "p =re.compile(\"http\")\n",
    "\n",
    "\n",
    "\n",
    "\n",
    "        \n",
    "def distance_a_philo(link):\n",
    "    wiki_path = \"https://fr.wikipedia.org\"\n",
    "    link_philo = \"/wiki/Philosophie\" \n",
    "    l = liste_refs(link)\n",
    "   \n",
    "    distance = 1\n",
    "    \n",
    "    while((link_philo in l) == False):\n",
    "        distance = distance +1\n",
    "        new_path = wiki_path + list_ref[0]\n",
    "        l = liste_refs(new_path)\n",
    "        distance_a_philo(l[0])\n",
    "\n",
    "    \n",
    "    return distance"
   ]
  },
  {
   "cell_type": "code",
   "execution_count": 11,
   "metadata": {
    "scrolled": true
   },
   "outputs": [
    {
     "ename": "NameError",
     "evalue": "name 'list_ref' is not defined",
     "output_type": "error",
     "traceback": [
      "\u001b[0;31m---------------------------------------------------------------------------\u001b[0m",
      "\u001b[0;31mNameError\u001b[0m                                 Traceback (most recent call last)",
      "\u001b[0;32m<ipython-input-11-45033faeee83>\u001b[0m in \u001b[0;36m<module>\u001b[0;34m\u001b[0m\n\u001b[0;32m----> 1\u001b[0;31m \u001b[0mdistance_a_philo\u001b[0m\u001b[0;34m(\u001b[0m\u001b[0;34m\"https://fr.wikipedia.org/wiki/Socrate\"\u001b[0m\u001b[0;34m)\u001b[0m\u001b[0;34m\u001b[0m\u001b[0;34m\u001b[0m\u001b[0m\n\u001b[0m",
      "\u001b[0;32m<ipython-input-10-aca2250caadf>\u001b[0m in \u001b[0;36mdistance_a_philo\u001b[0;34m(link)\u001b[0m\n\u001b[1;32m     21\u001b[0m     \u001b[0;32mwhile\u001b[0m\u001b[0;34m(\u001b[0m\u001b[0;34m(\u001b[0m\u001b[0mlink_philo\u001b[0m \u001b[0;32min\u001b[0m \u001b[0ml\u001b[0m\u001b[0;34m)\u001b[0m \u001b[0;34m==\u001b[0m \u001b[0;32mFalse\u001b[0m\u001b[0;34m)\u001b[0m\u001b[0;34m:\u001b[0m\u001b[0;34m\u001b[0m\u001b[0;34m\u001b[0m\u001b[0m\n\u001b[1;32m     22\u001b[0m         \u001b[0mdistance\u001b[0m \u001b[0;34m=\u001b[0m \u001b[0mdistance\u001b[0m \u001b[0;34m+\u001b[0m\u001b[0;36m1\u001b[0m\u001b[0;34m\u001b[0m\u001b[0;34m\u001b[0m\u001b[0m\n\u001b[0;32m---> 23\u001b[0;31m         \u001b[0mnew_path\u001b[0m \u001b[0;34m=\u001b[0m \u001b[0mwiki_path\u001b[0m \u001b[0;34m+\u001b[0m \u001b[0mlist_ref\u001b[0m\u001b[0;34m[\u001b[0m\u001b[0;36m0\u001b[0m\u001b[0;34m]\u001b[0m\u001b[0;34m\u001b[0m\u001b[0;34m\u001b[0m\u001b[0m\n\u001b[0m\u001b[1;32m     24\u001b[0m         \u001b[0ml\u001b[0m \u001b[0;34m=\u001b[0m \u001b[0mliste_refs\u001b[0m\u001b[0;34m(\u001b[0m\u001b[0mnew_path\u001b[0m\u001b[0;34m)\u001b[0m\u001b[0;34m\u001b[0m\u001b[0;34m\u001b[0m\u001b[0m\n\u001b[1;32m     25\u001b[0m         \u001b[0mdistance_a_philo\u001b[0m\u001b[0;34m(\u001b[0m\u001b[0ml\u001b[0m\u001b[0;34m[\u001b[0m\u001b[0;36m0\u001b[0m\u001b[0;34m]\u001b[0m\u001b[0;34m)\u001b[0m\u001b[0;34m\u001b[0m\u001b[0;34m\u001b[0m\u001b[0m\n",
      "\u001b[0;31mNameError\u001b[0m: name 'list_ref' is not defined"
     ]
    }
   ],
   "source": [
    "distance_a_philo(\"https://fr.wikipedia.org/wiki/Socrate\")"
   ]
  },
  {
   "cell_type": "code",
   "execution_count": null,
   "metadata": {},
   "outputs": [],
   "source": [
    "def liste_refs(link):\n",
    "      \n",
    "    data = r.get(link).content\n",
    "    soup = BeautifulSoup(data, 'html.parser')\n",
    "    l=[]\n",
    "    \n",
    "    for s in soup.find_all(class_='mw-parser-output')[0].select('a'):\n",
    "        a = s.get('href')\n",
    "        l.append(str(a))\n",
    "    \n",
    "    regex = re.compile('\\/wiki')\n",
    "    \n",
    "    return list(filter(regex.search,l))\n",
    "\n",
    "\n",
    "\n",
    "def distance(link):    \n",
    "    \n",
    "    path= \"https://fr.wikipedia.org\"\n",
    "    link_philo = \"/wiki/Philosophie\"\n",
    "    dist = 0\n",
    "    dist = dist+1\n",
    "    link_philo = False\n",
    "    l = liste_refs(link)\n",
    "    if(link_philo in l):\n",
    "        #dist = dist + 1\n",
    "        return dist\n",
    "    else:\n",
    "        #dist = dist + 1\n",
    "        try:\n",
    "            new_path =  path + l[5]\n",
    "            print(new_path,dist)\n",
    "            distance(new_path)\n",
    "            dist = dist + 1\n",
    "        except:\n",
    "            new_path =  path + l[6]\n",
    "            print(new_path,dist)\n",
    "            distance(new_path)\n",
    "            dist = dist + 1\n",
    "        \n",
    "    return dist\n",
    "\n",
    "distance(\"https://fr.wikipedia.org/wiki/Histoire_de_la_philosophie\")"
   ]
  }
 ],
 "metadata": {
  "kernelspec": {
   "display_name": "Python 3",
   "language": "python",
   "name": "python3"
  },
  "language_info": {
   "codemirror_mode": {
    "name": "ipython",
    "version": 3
   },
   "file_extension": ".py",
   "mimetype": "text/x-python",
   "name": "python",
   "nbconvert_exporter": "python",
   "pygments_lexer": "ipython3",
   "version": "3.7.3"
  }
 },
 "nbformat": 4,
 "nbformat_minor": 2
}
