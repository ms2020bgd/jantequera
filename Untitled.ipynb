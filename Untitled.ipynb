{
 "cells": [
  {
   "cell_type": "code",
   "execution_count": 57,
   "metadata": {},
   "outputs": [
    {
     "data": {
      "text/plain": [
       "'heyheyhey'"
      ]
     },
     "execution_count": 57,
     "metadata": {},
     "output_type": "execute_result"
    }
   ],
   "source": [
    "import math\n",
    "import unittest\n",
    "import collections\n",
    "\n",
    "\n",
    "# Given a string and a non-negative int n, return a larger string\n",
    "# that is n copies of the original string.\n",
    "# Example: string_times(\"hey\", 3) should return \"heyheyhey\"\n",
    "def string_times(string, n):\n",
    "    return string *n\n",
    "\n",
    "string_times(\"hey\",3)"
   ]
  },
  {
   "cell_type": "code",
   "execution_count": 15,
   "metadata": {},
   "outputs": [],
   "source": [
    "# Write a function which returns True if a year is a leap year.\n",
    "# A year is leap year if:\n",
    "# - it is divisible by 4 AND indivisible by 100\n",
    "# or if:\n",
    "# - it is divisible by 400\n",
    "def is_leap_year(year):\n",
    "    if year%4==0:\n",
    "        if year%100==0:\n",
    "            return True\n",
    "        elif year%400==0:\n",
    "            return True\n",
    "    else:\n",
    "        return False\n",
    "\n",
    "is_leap_year(2004)\n",
    "\n"
   ]
  },
  {
   "cell_type": "code",
   "execution_count": 37,
   "metadata": {},
   "outputs": [],
   "source": [
    "# Given a list of ints, return True if one of the first 4 elements\n",
    "# in the array is a 9. The list length may be less than 4.\n",
    "def array_front9(nums):\n",
    "    a= False\n",
    "    if len(nums)<4:\n",
    "        a= False\n",
    "        \n",
    "    else:\n",
    "        for i in range(0,4):\n",
    "            if nums[i] == 9:\n",
    "                a=True\n",
    "                \n",
    "    return a\n",
    "            "
   ]
  },
  {
   "cell_type": "code",
   "execution_count": 46,
   "metadata": {},
   "outputs": [],
   "source": [
    "# Given a list of ints, return the list of their square root.\n",
    "def list_sqrt(nums):\n",
    "    return [math.sqrt(nums[i]) for i in range(0,len(nums))]\n",
    "\n",
    "list_sqrt([1,2,3,4,5])"
   ]
  },
  {
   "cell_type": "code",
   "execution_count": 73,
   "metadata": {},
   "outputs": [],
   "source": [
    "# Write a function which return a dict containing the number of time each letter\n",
    "# is present in the given text.\n",
    "def occurences(text):\n",
    "    c = collections.Counter(text)\n",
    "    #print(c)\n",
    "    return dict(c)"
   ]
  },
  {
   "cell_type": "code",
   "execution_count": 74,
   "metadata": {},
   "outputs": [
    {
     "data": {
      "text/plain": [
       "{'v': 1, 'n': 3, 'o': 1, 's': 2, 'd': 2, 'f': 2, 'l': 2}"
      ]
     },
     "execution_count": 74,
     "metadata": {},
     "output_type": "execute_result"
    }
   ],
   "source": [
    "occurences(\"vnosdnfllndsf\")"
   ]
  },
  {
   "cell_type": "code",
   "execution_count": 77,
   "metadata": {},
   "outputs": [
    {
     "data": {
      "text/plain": [
       "{'bonjour': 0, 'au revoir': 1, 'bye': 2, 'à plus': 3}"
      ]
     },
     "execution_count": 77,
     "metadata": {},
     "output_type": "execute_result"
    }
   ],
   "source": [
    "# Write a function that maps a list of words into a list of\n",
    "# integers representing the lengths of the corresponding words.\n",
    "def length_words(words):\n",
    "    map = dict(zip(words, range(0,len(words))))\n",
    "    return map\n",
    "\n",
    "\n",
    "               \n",
    "length_words([\"bonjour\",\"au revoir\",\"bye\",\"à plus\"])"
   ]
  },
  {
   "cell_type": "code",
   "execution_count": null,
   "metadata": {},
   "outputs": [],
   "source": [
    "\n",
    "# Write a function that takes a number and returns a list of its digits.\n",
    "def number_to_digits(number):\n",
    "    return"
   ]
  }
 ],
 "metadata": {
  "kernelspec": {
   "display_name": "Python 3",
   "language": "python",
   "name": "python3"
  },
  "language_info": {
   "codemirror_mode": {
    "name": "ipython",
    "version": 3
   },
   "file_extension": ".py",
   "mimetype": "text/x-python",
   "name": "python",
   "nbconvert_exporter": "python",
   "pygments_lexer": "ipython3",
   "version": "3.7.3"
  }
 },
 "nbformat": 4,
 "nbformat_minor": 2
}
